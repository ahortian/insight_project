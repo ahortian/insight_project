{
 "cells": [
  {
   "cell_type": "markdown",
   "metadata": {},
   "source": [
    "## Concatenating weather data"
   ]
  },
  {
   "cell_type": "code",
   "execution_count": 1,
   "metadata": {},
   "outputs": [],
   "source": [
    "import sys\n",
    "import matplotlib.pyplot as plt\n",
    "import seaborn as sns\n",
    "import numpy as np\n",
    "import pandas as pd\n",
    "from datetime import datetime, date\n",
    "import time\n",
    "import matplotlib.pyplot as plt"
   ]
  },
  {
   "cell_type": "markdown",
   "metadata": {},
   "source": [
    "### Concatenate all weather data"
   ]
  },
  {
   "cell_type": "code",
   "execution_count": 43,
   "metadata": {},
   "outputs": [],
   "source": [
    "df_2015 = pd.read_csv('data/raw/weather/weather_2015.csv') \n",
    "df_2016 = pd.read_csv('data/raw/weather/weather_2016.csv') \n",
    "df_2017 = pd.read_csv('data/raw/weather/weather_2017.csv') \n",
    "df_2018 = pd.read_csv('data/raw/weather/weather_2018.csv') \n",
    "df_2019 = pd.read_csv('data/raw/weather/weather_2019.csv') "
   ]
  },
  {
   "cell_type": "code",
   "execution_count": 58,
   "metadata": {},
   "outputs": [],
   "source": [
    "frames_all = [df_2015, df_2016, df_2017, df_2018, df_2019]\n",
    "result_all = pd.concat(frames_all)\n",
    "result_all = result_all.drop(columns=[\"Unnamed: 0\"])"
   ]
  },
  {
   "cell_type": "code",
   "execution_count": 64,
   "metadata": {},
   "outputs": [
    {
     "data": {
      "text/html": [
       "<div>\n",
       "<style scoped>\n",
       "    .dataframe tbody tr th:only-of-type {\n",
       "        vertical-align: middle;\n",
       "    }\n",
       "\n",
       "    .dataframe tbody tr th {\n",
       "        vertical-align: top;\n",
       "    }\n",
       "\n",
       "    .dataframe thead th {\n",
       "        text-align: right;\n",
       "    }\n",
       "</style>\n",
       "<table border=\"1\" class=\"dataframe\">\n",
       "  <thead>\n",
       "    <tr style=\"text-align: right;\">\n",
       "      <th></th>\n",
       "      <th>Time</th>\n",
       "      <th>Temperature(F)</th>\n",
       "      <th>Dew Point(F)</th>\n",
       "      <th>Humidity(%)</th>\n",
       "      <th>Wind</th>\n",
       "      <th>Wind Speed(mph)</th>\n",
       "      <th>Wind Gust(mph)</th>\n",
       "      <th>Pressure(in)</th>\n",
       "      <th>Precip.(in)</th>\n",
       "      <th>Precip Accum(in)</th>\n",
       "      <th>Condition</th>\n",
       "      <th>date</th>\n",
       "    </tr>\n",
       "  </thead>\n",
       "  <tbody>\n",
       "    <tr>\n",
       "      <th>4583</th>\n",
       "      <td>5:26 PM</td>\n",
       "      <td>65</td>\n",
       "      <td>59</td>\n",
       "      <td>81</td>\n",
       "      <td>E</td>\n",
       "      <td>12</td>\n",
       "      <td>0</td>\n",
       "      <td>30.0</td>\n",
       "      <td>0.0</td>\n",
       "      <td>0.0</td>\n",
       "      <td>Cloudy</td>\n",
       "      <td>2019-06-10 17:26:00</td>\n",
       "    </tr>\n",
       "    <tr>\n",
       "      <th>4584</th>\n",
       "      <td>5:54 PM</td>\n",
       "      <td>65</td>\n",
       "      <td>59</td>\n",
       "      <td>81</td>\n",
       "      <td>E</td>\n",
       "      <td>10</td>\n",
       "      <td>0</td>\n",
       "      <td>30.0</td>\n",
       "      <td>0.0</td>\n",
       "      <td>0.0</td>\n",
       "      <td>Cloudy</td>\n",
       "      <td>2019-06-10 17:54:00</td>\n",
       "    </tr>\n",
       "    <tr>\n",
       "      <th>4585</th>\n",
       "      <td>6:46 PM</td>\n",
       "      <td>63</td>\n",
       "      <td>60</td>\n",
       "      <td>90</td>\n",
       "      <td>ESE</td>\n",
       "      <td>10</td>\n",
       "      <td>0</td>\n",
       "      <td>30.0</td>\n",
       "      <td>0.0</td>\n",
       "      <td>0.0</td>\n",
       "      <td>Light Rain</td>\n",
       "      <td>2019-06-10 18:46:00</td>\n",
       "    </tr>\n",
       "    <tr>\n",
       "      <th>4586</th>\n",
       "      <td>6:54 PM</td>\n",
       "      <td>63</td>\n",
       "      <td>60</td>\n",
       "      <td>90</td>\n",
       "      <td>ESE</td>\n",
       "      <td>13</td>\n",
       "      <td>0</td>\n",
       "      <td>30.0</td>\n",
       "      <td>0.0</td>\n",
       "      <td>0.0</td>\n",
       "      <td>Light Rain</td>\n",
       "      <td>2019-06-10 18:54:00</td>\n",
       "    </tr>\n",
       "    <tr>\n",
       "      <th>4587</th>\n",
       "      <td>7:54 PM</td>\n",
       "      <td>66</td>\n",
       "      <td>63</td>\n",
       "      <td>90</td>\n",
       "      <td>E</td>\n",
       "      <td>10</td>\n",
       "      <td>0</td>\n",
       "      <td>29.9</td>\n",
       "      <td>0.0</td>\n",
       "      <td>0.0</td>\n",
       "      <td>Light Rain</td>\n",
       "      <td>2019-06-10 19:54:00</td>\n",
       "    </tr>\n",
       "  </tbody>\n",
       "</table>\n",
       "</div>"
      ],
      "text/plain": [
       "         Time  Temperature(F)  Dew Point(F)  Humidity(%) Wind  \\\n",
       "4583  5:26 PM              65            59           81    E   \n",
       "4584  5:54 PM              65            59           81    E   \n",
       "4585  6:46 PM              63            60           90  ESE   \n",
       "4586  6:54 PM              63            60           90  ESE   \n",
       "4587  7:54 PM              66            63           90    E   \n",
       "\n",
       "      Wind Speed(mph)  Wind Gust(mph)  Pressure(in)  Precip.(in)  \\\n",
       "4583               12               0          30.0          0.0   \n",
       "4584               10               0          30.0          0.0   \n",
       "4585               10               0          30.0          0.0   \n",
       "4586               13               0          30.0          0.0   \n",
       "4587               10               0          29.9          0.0   \n",
       "\n",
       "      Precip Accum(in)   Condition                 date  \n",
       "4583               0.0      Cloudy  2019-06-10 17:26:00  \n",
       "4584               0.0      Cloudy  2019-06-10 17:54:00  \n",
       "4585               0.0  Light Rain  2019-06-10 18:46:00  \n",
       "4586               0.0  Light Rain  2019-06-10 18:54:00  \n",
       "4587               0.0  Light Rain  2019-06-10 19:54:00  "
      ]
     },
     "execution_count": 64,
     "metadata": {},
     "output_type": "execute_result"
    }
   ],
   "source": [
    "result_all.tail()"
   ]
  },
  {
   "cell_type": "code",
   "execution_count": 65,
   "metadata": {},
   "outputs": [],
   "source": [
    "result_all.to_csv('data/interim/weather/weather_all.csv')"
   ]
  },
  {
   "cell_type": "markdown",
   "metadata": {},
   "source": [
    "## Process Weather Data"
   ]
  },
  {
   "cell_type": "markdown",
   "metadata": {},
   "source": [
    "#### Get average weather infomation per day"
   ]
  },
  {
   "cell_type": "code",
   "execution_count": 68,
   "metadata": {
    "scrolled": true
   },
   "outputs": [],
   "source": [
    "result_all = result_all.drop(columns=[\"Time\",\"Wind\",\"Condition\"])\n",
    "result_all[\"DATE\"] = result_all[\"date\"].apply(lambda x: x.split(\" \")[0])\n",
    "result_all = result_all.drop(columns=[\"date\"])"
   ]
  },
  {
   "cell_type": "code",
   "execution_count": 80,
   "metadata": {
    "scrolled": true
   },
   "outputs": [],
   "source": [
    "result_all_by_day = result_all.groupby(\"DATE\").mean()\n",
    "result_all_by_day = result_all_by_day.reset_index()\n",
    "result_all_by_day.to_csv('data/interim/weather/weather_all_by_day.csv')"
   ]
  },
  {
   "cell_type": "markdown",
   "metadata": {},
   "source": [
    "#### Get average weather infomation per hour group\n",
    "- divide a day into 3 periods : 12AM-8AM, 8AM-4PM, 4PM-12AM\n",
    "- average weather infomation within the period"
   ]
  },
  {
   "cell_type": "code",
   "execution_count": null,
   "metadata": {},
   "outputs": [],
   "source": [
    "df_weather_all = pd.read_csv('data/interim/weather/weather_all.csv')\n",
    "df_weather_all = df_weather_all.drop(columns=[\"Unnamed: 0\"])\n",
    "df_weather_all[\"DATE\"] = df_weather_all[\"date\"].apply(lambda x: x.split(\" \")[0])\n",
    "df_weather_all[\"HOUR\"] = df_weather_all[\"date\"].apply(lambda x: datetime.strptime(x, '%Y-%m-%d %H:%M:%S').hour)"
   ]
  },
  {
   "cell_type": "code",
   "execution_count": null,
   "metadata": {},
   "outputs": [],
   "source": [
    "def what_hourgroup(hr):\n",
    "    if hr >= 0 and hr <=7:\n",
    "        return 1\n",
    "    if hr >= 8 and hr <=15:\n",
    "        return 2\n",
    "    if hr >= 16 and hr <=23:\n",
    "        return 3"
   ]
  },
  {
   "cell_type": "code",
   "execution_count": null,
   "metadata": {},
   "outputs": [],
   "source": [
    "df_weather_all[\"Hour_Grp\"] = df_weather_all[\"HOUR\"].apply(lambda x: what_hourgroup(x))\n",
    "\n",
    "df_weather_all = df_weather_all.drop(columns=[\"Time\",\"Wind\",\"Condition\",\"HOUR\",\"date\"])\n",
    "#df_weather_all = df_weather_all.drop(columns=[\"date\"])\n",
    "\n",
    "df_weather_all=df_weather_all.groupby([\"DATE\",\"Hour_Grp\"]).mean().reset_index()\n",
    "df_weather_all.to_csv('data/interim/weather/weather_all_by_day_hourgroup.csv')"
   ]
  }
 ],
 "metadata": {
  "kernelspec": {
   "display_name": "Python 3",
   "language": "python",
   "name": "python3"
  },
  "language_info": {
   "codemirror_mode": {
    "name": "ipython",
    "version": 3
   },
   "file_extension": ".py",
   "mimetype": "text/x-python",
   "name": "python",
   "nbconvert_exporter": "python",
   "pygments_lexer": "ipython3",
   "version": "3.7.3"
  }
 },
 "nbformat": 4,
 "nbformat_minor": 2
}
