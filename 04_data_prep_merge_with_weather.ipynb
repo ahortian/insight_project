{
 "cells": [
  {
   "cell_type": "code",
   "execution_count": 5,
   "metadata": {},
   "outputs": [],
   "source": [
    "import sys\n",
    "import matplotlib.pyplot as plt\n",
    "import seaborn as sns\n",
    "import numpy as np\n",
    "import pandas as pd\n",
    "from datetime import datetime, date\n",
    "import time\n",
    "import matplotlib.pyplot as plt"
   ]
  },
  {
   "cell_type": "markdown",
   "metadata": {},
   "source": [
    "### Read In Crime data table"
   ]
  },
  {
   "cell_type": "code",
   "execution_count": 6,
   "metadata": {},
   "outputs": [],
   "source": [
    "df_train = pd.read_csv('./data/interim/crime_data/fullTrainTestCrimeData_train_police_rand_2019_06_27.csv') \n",
    "df_valid = pd.read_csv('./data/interim/crime_data/fullTrainTestCrimeData_valid_police_rand_2019_06_27.csv') \n",
    "df_tests = pd.read_csv('./data/interim/crime_data/fullTrainTestCrimeData_test_police_rand_2019_06_27.csv')"
   ]
  },
  {
   "cell_type": "code",
   "execution_count": 7,
   "metadata": {},
   "outputs": [
    {
     "data": {
      "text/html": [
       "<div>\n",
       "<style scoped>\n",
       "    .dataframe tbody tr th:only-of-type {\n",
       "        vertical-align: middle;\n",
       "    }\n",
       "\n",
       "    .dataframe tbody tr th {\n",
       "        vertical-align: top;\n",
       "    }\n",
       "\n",
       "    .dataframe thead th {\n",
       "        text-align: right;\n",
       "    }\n",
       "</style>\n",
       "<table border=\"1\" class=\"dataframe\">\n",
       "  <thead>\n",
       "    <tr style=\"text-align: right;\">\n",
       "      <th></th>\n",
       "      <th>Unnamed: 0</th>\n",
       "      <th>DATE</th>\n",
       "      <th>DAY_OF_MONTH</th>\n",
       "      <th>DAY_OF_WEEK</th>\n",
       "      <th>Hour_Grp</th>\n",
       "      <th>INCIDENT_NUMBER</th>\n",
       "      <th>Lat</th>\n",
       "      <th>Long</th>\n",
       "      <th>MONTH</th>\n",
       "      <th>Value</th>\n",
       "      <th>YEAR</th>\n",
       "      <th>closest_mbta_d</th>\n",
       "      <th>closest_police_d</th>\n",
       "    </tr>\n",
       "  </thead>\n",
       "  <tbody>\n",
       "    <tr>\n",
       "      <th>0</th>\n",
       "      <td>0</td>\n",
       "      <td>2018-04-01</td>\n",
       "      <td>1</td>\n",
       "      <td>Sunday</td>\n",
       "      <td>1</td>\n",
       "      <td>[]</td>\n",
       "      <td>42.2348</td>\n",
       "      <td>-71.1325</td>\n",
       "      <td>4</td>\n",
       "      <td>0</td>\n",
       "      <td>2018</td>\n",
       "      <td>3.563674</td>\n",
       "      <td>1.599552</td>\n",
       "    </tr>\n",
       "    <tr>\n",
       "      <th>1</th>\n",
       "      <td>1</td>\n",
       "      <td>2018-04-01</td>\n",
       "      <td>1</td>\n",
       "      <td>Sunday</td>\n",
       "      <td>2</td>\n",
       "      <td>[]</td>\n",
       "      <td>42.2348</td>\n",
       "      <td>-71.1325</td>\n",
       "      <td>4</td>\n",
       "      <td>0</td>\n",
       "      <td>2018</td>\n",
       "      <td>3.563674</td>\n",
       "      <td>1.599552</td>\n",
       "    </tr>\n",
       "    <tr>\n",
       "      <th>2</th>\n",
       "      <td>2</td>\n",
       "      <td>2018-04-01</td>\n",
       "      <td>1</td>\n",
       "      <td>Sunday</td>\n",
       "      <td>3</td>\n",
       "      <td>[]</td>\n",
       "      <td>42.2348</td>\n",
       "      <td>-71.1325</td>\n",
       "      <td>4</td>\n",
       "      <td>0</td>\n",
       "      <td>2018</td>\n",
       "      <td>3.563674</td>\n",
       "      <td>1.599552</td>\n",
       "    </tr>\n",
       "    <tr>\n",
       "      <th>3</th>\n",
       "      <td>3</td>\n",
       "      <td>2018-04-02</td>\n",
       "      <td>2</td>\n",
       "      <td>Monday</td>\n",
       "      <td>1</td>\n",
       "      <td>[]</td>\n",
       "      <td>42.2348</td>\n",
       "      <td>-71.1325</td>\n",
       "      <td>4</td>\n",
       "      <td>0</td>\n",
       "      <td>2018</td>\n",
       "      <td>3.563674</td>\n",
       "      <td>1.599552</td>\n",
       "    </tr>\n",
       "    <tr>\n",
       "      <th>4</th>\n",
       "      <td>4</td>\n",
       "      <td>2018-04-02</td>\n",
       "      <td>2</td>\n",
       "      <td>Monday</td>\n",
       "      <td>2</td>\n",
       "      <td>[]</td>\n",
       "      <td>42.2348</td>\n",
       "      <td>-71.1325</td>\n",
       "      <td>4</td>\n",
       "      <td>0</td>\n",
       "      <td>2018</td>\n",
       "      <td>3.563674</td>\n",
       "      <td>1.599552</td>\n",
       "    </tr>\n",
       "  </tbody>\n",
       "</table>\n",
       "</div>"
      ],
      "text/plain": [
       "   Unnamed: 0        DATE  DAY_OF_MONTH DAY_OF_WEEK  Hour_Grp INCIDENT_NUMBER  \\\n",
       "0           0  2018-04-01             1      Sunday         1              []   \n",
       "1           1  2018-04-01             1      Sunday         2              []   \n",
       "2           2  2018-04-01             1      Sunday         3              []   \n",
       "3           3  2018-04-02             2      Monday         1              []   \n",
       "4           4  2018-04-02             2      Monday         2              []   \n",
       "\n",
       "       Lat     Long  MONTH  Value  YEAR  closest_mbta_d  closest_police_d  \n",
       "0  42.2348 -71.1325      4      0  2018        3.563674          1.599552  \n",
       "1  42.2348 -71.1325      4      0  2018        3.563674          1.599552  \n",
       "2  42.2348 -71.1325      4      0  2018        3.563674          1.599552  \n",
       "3  42.2348 -71.1325      4      0  2018        3.563674          1.599552  \n",
       "4  42.2348 -71.1325      4      0  2018        3.563674          1.599552  "
      ]
     },
     "execution_count": 7,
     "metadata": {},
     "output_type": "execute_result"
    }
   ],
   "source": [
    "df_valid.head(5)"
   ]
  },
  {
   "cell_type": "code",
   "execution_count": 8,
   "metadata": {},
   "outputs": [],
   "source": [
    "df_train = df_train.drop(columns=[\"Unnamed: 0\"])\n",
    "df_valid = df_valid.drop(columns=[\"Unnamed: 0\"])\n",
    "df_tests = df_tests.drop(columns=[\"Unnamed: 0\"])"
   ]
  },
  {
   "cell_type": "markdown",
   "metadata": {},
   "source": [
    "### Create the column DAY_OF_WEEK"
   ]
  },
  {
   "cell_type": "code",
   "execution_count": 9,
   "metadata": {},
   "outputs": [],
   "source": [
    "map_day = {'Monday':1, 'Tuesday':2,'Wednesday':3, 'Thursday':4, 'Friday':5, \n",
    "           'Saturday':6, 'Sunday':7}\n",
    "df_train[\"DAY_OF_WEEK_NUM\"] = df_train[\"DAY_OF_WEEK\"].apply(lambda x: map_day[x])\n",
    "df_valid[\"DAY_OF_WEEK_NUM\"] = df_valid[\"DAY_OF_WEEK\"].apply(lambda x: map_day[x])\n",
    "df_tests[\"DAY_OF_WEEK_NUM\"] = df_tests[\"DAY_OF_WEEK\"].apply(lambda x: map_day[x])"
   ]
  },
  {
   "cell_type": "markdown",
   "metadata": {},
   "source": [
    "### Read In the Weather info"
   ]
  },
  {
   "cell_type": "code",
   "execution_count": 10,
   "metadata": {},
   "outputs": [
    {
     "name": "stdout",
     "output_type": "stream",
     "text": [
      "(4865, 10)\n"
     ]
    }
   ],
   "source": [
    "df_weather_all_by_day = pd.read_csv('./data/interim/weather/weather_all_by_day_hourgroup.csv')\n",
    "df_weather_all_by_day = df_weather_all_by_day.drop(columns=[\"Unnamed: 0\"])\n",
    "print(df_weather_all_by_day.shape)"
   ]
  },
  {
   "cell_type": "markdown",
   "metadata": {},
   "source": [
    "#### More cleaning of weather table"
   ]
  },
  {
   "cell_type": "code",
   "execution_count": 11,
   "metadata": {},
   "outputs": [
    {
     "data": {
      "text/html": [
       "<div>\n",
       "<style scoped>\n",
       "    .dataframe tbody tr th:only-of-type {\n",
       "        vertical-align: middle;\n",
       "    }\n",
       "\n",
       "    .dataframe tbody tr th {\n",
       "        vertical-align: top;\n",
       "    }\n",
       "\n",
       "    .dataframe thead th {\n",
       "        text-align: right;\n",
       "    }\n",
       "</style>\n",
       "<table border=\"1\" class=\"dataframe\">\n",
       "  <thead>\n",
       "    <tr style=\"text-align: right;\">\n",
       "      <th></th>\n",
       "      <th>DATE</th>\n",
       "      <th>Hour_Grp</th>\n",
       "      <th>Temperature(F)</th>\n",
       "      <th>Dew Point(F)</th>\n",
       "      <th>Humidity(%)</th>\n",
       "      <th>Wind Speed(mph)</th>\n",
       "      <th>Wind Gust(mph)</th>\n",
       "      <th>Pressure(in)</th>\n",
       "      <th>Precip.(in)</th>\n",
       "      <th>Precip Accum(in)</th>\n",
       "    </tr>\n",
       "  </thead>\n",
       "  <tbody>\n",
       "    <tr>\n",
       "      <th>3999</th>\n",
       "      <td>2018-08-26</td>\n",
       "      <td>2</td>\n",
       "      <td>76.000000</td>\n",
       "      <td>66.0</td>\n",
       "      <td>71.0</td>\n",
       "      <td>12.000000</td>\n",
       "      <td>0.0</td>\n",
       "      <td>30.0</td>\n",
       "      <td>0.0</td>\n",
       "      <td>0.0</td>\n",
       "    </tr>\n",
       "    <tr>\n",
       "      <th>4000</th>\n",
       "      <td>2018-08-26</td>\n",
       "      <td>3</td>\n",
       "      <td>74.666667</td>\n",
       "      <td>67.0</td>\n",
       "      <td>77.0</td>\n",
       "      <td>10.666667</td>\n",
       "      <td>0.0</td>\n",
       "      <td>30.0</td>\n",
       "      <td>0.0</td>\n",
       "      <td>0.0</td>\n",
       "    </tr>\n",
       "    <tr>\n",
       "      <th>4865</th>\n",
       "      <td>2018-08-26</td>\n",
       "      <td>1</td>\n",
       "      <td>76.000000</td>\n",
       "      <td>66.0</td>\n",
       "      <td>71.0</td>\n",
       "      <td>12.000000</td>\n",
       "      <td>0.0</td>\n",
       "      <td>30.0</td>\n",
       "      <td>0.0</td>\n",
       "      <td>0.0</td>\n",
       "    </tr>\n",
       "  </tbody>\n",
       "</table>\n",
       "</div>"
      ],
      "text/plain": [
       "            DATE  Hour_Grp  Temperature(F)  Dew Point(F)  Humidity(%)  \\\n",
       "3999  2018-08-26         2       76.000000          66.0         71.0   \n",
       "4000  2018-08-26         3       74.666667          67.0         77.0   \n",
       "4865  2018-08-26         1       76.000000          66.0         71.0   \n",
       "\n",
       "      Wind Speed(mph)  Wind Gust(mph)  Pressure(in)  Precip.(in)  \\\n",
       "3999        12.000000             0.0          30.0          0.0   \n",
       "4000        10.666667             0.0          30.0          0.0   \n",
       "4865        12.000000             0.0          30.0          0.0   \n",
       "\n",
       "      Precip Accum(in)  \n",
       "3999               0.0  \n",
       "4000               0.0  \n",
       "4865               0.0  "
      ]
     },
     "execution_count": 11,
     "metadata": {},
     "output_type": "execute_result"
    }
   ],
   "source": [
    "if df_weather_all_by_day[df_weather_all_by_day[\"DATE\"] == '2018-08-26'].shape[0] <3:\n",
    "    new_series = df_weather_all_by_day[df_weather_all_by_day[\"DATE\"] == '2018-08-26'].iloc[0]\n",
    "    new_series[\"Hour_Grp\"] = 1\n",
    "    df_weather_all_by_day = df_weather_all_by_day.append(new_series , ignore_index=True)\n",
    "df_weather_all_by_day[df_weather_all_by_day[\"DATE\"] == '2018-08-26']"
   ]
  },
  {
   "cell_type": "code",
   "execution_count": 12,
   "metadata": {},
   "outputs": [
    {
     "name": "stdout",
     "output_type": "stream",
     "text": [
      "(4866, 10)\n"
     ]
    }
   ],
   "source": [
    "print (df_weather_all_by_day.shape)"
   ]
  },
  {
   "cell_type": "markdown",
   "metadata": {},
   "source": [
    "### Mearge Weather with Crime"
   ]
  },
  {
   "cell_type": "code",
   "execution_count": 13,
   "metadata": {
    "scrolled": true
   },
   "outputs": [
    {
     "name": "stdout",
     "output_type": "stream",
     "text": [
      "(787191, 21)\n",
      "(164352, 21)\n",
      "(164808, 21)\n"
     ]
    }
   ],
   "source": [
    "merged_df_train = pd.merge(df_train, df_weather_all_by_day,  how='left', left_on=['DATE','Hour_Grp'], right_on = ['DATE','Hour_Grp'])\n",
    "merged_df_valid = pd.merge(df_valid, df_weather_all_by_day,  how='left', left_on=['DATE','Hour_Grp'], right_on = ['DATE','Hour_Grp'])\n",
    "merged_df_tests = pd.merge(df_tests, df_weather_all_by_day,  how='left', left_on=['DATE','Hour_Grp'], right_on = ['DATE','Hour_Grp'])\n",
    "print (merged_df_train.shape)\n",
    "print (merged_df_valid.shape)\n",
    "print (merged_df_tests.shape)"
   ]
  },
  {
   "cell_type": "code",
   "execution_count": 15,
   "metadata": {},
   "outputs": [],
   "source": [
    "merged_df_train.to_csv('./data/processed/crime_data/fullTrainTestCrimeData_train_weather_by_hourgroup_police_rand_2019_06_27.csv')\n",
    "merged_df_valid.to_csv('./data/processed/crime_data/fullTrainTestCrimeData_valid_weather_by_hourgroup_police_rand_2019_06_27.csv')\n",
    "merged_df_tests.to_csv('./data/processed/crime_data/fullTrainTestCrimeData_tests_weather_by_hourgroup_police_rand_2019_06_27.csv')"
   ]
  }
 ],
 "metadata": {
  "kernelspec": {
   "display_name": "Python 3",
   "language": "python",
   "name": "python3"
  },
  "language_info": {
   "codemirror_mode": {
    "name": "ipython",
    "version": 3
   },
   "file_extension": ".py",
   "mimetype": "text/x-python",
   "name": "python",
   "nbconvert_exporter": "python",
   "pygments_lexer": "ipython3",
   "version": "3.7.3"
  }
 },
 "nbformat": 4,
 "nbformat_minor": 2
}
