{
 "cells": [
  {
   "cell_type": "code",
   "execution_count": null,
   "metadata": {},
   "outputs": [],
   "source": [
    "import sys\n",
    "import matplotlib.pyplot as plt\n",
    "import seaborn as sns\n",
    "import numpy as np\n",
    "import pandas as pd\n",
    "import datetime\n",
    "import calendar\n",
    "import time\n",
    "import matplotlib.pyplot as plt\n",
    "import math\n",
    "\n",
    "#from sklearn import linear_model\n",
    "#from sklearn.model_selection import train_test_split\n",
    "from sklearn import ensemble\n",
    "from sklearn import linear_model\n",
    "#Import Random Forest Model\n",
    "from sklearn.ensemble import RandomForestClassifier\n",
    "from sklearn.dummy import DummyClassifier\n",
    "\n",
    "# scaling the input feature\n",
    "from sklearn.preprocessing import StandardScaler\n",
    "from sklearn.compose import ColumnTransformer\n",
    "from sklearn.pipeline import Pipeline\n",
    "\n",
    "from sklearn.metrics import f1_score\n",
    "from sklearn.metrics import accuracy_score\n",
    "from sklearn.metrics import precision_score\n",
    "from sklearn.metrics import recall_score\n",
    "from sklearn.metrics import classification_report, confusion_matrix, roc_curve, auc\n",
    "\n",
    "from joblib import load\n",
    "from joblib import dump"
   ]
  },
  {
   "cell_type": "code",
   "execution_count": null,
   "metadata": {},
   "outputs": [],
   "source": [
    "train_fname = './data/processed/crime_data/fullTrainTestCrimeData_train_weather_by_hourgroup_police_rand_2019_06_27.csv'\n",
    "valid_fname = './data/processed/crime_data/fullTrainTestCrimeData_valid_weather_by_hourgroup_police_rand_2019_06_27.csv'\n",
    "tests_fname = './data/processed/crime_data/fullTrainTestCrimeData_tests_weather_by_hourgroup_police_rand_2019_06_27.csv'"
   ]
  },
  {
   "cell_type": "code",
   "execution_count": null,
   "metadata": {},
   "outputs": [],
   "source": [
    "df_train = pd.read_csv(train_fname)\n",
    "df_train = df_train.drop(columns=[\"Unnamed: 0\"])\n",
    "\n",
    "#df_train.boxplot(column=\"Value\")\n",
    "# remove outliers\n",
    "ind_to_drop_outlier = df_train[df_train[\"Value\"]>60].index\n",
    "df_train = df_train.drop(ind_to_drop_outlier, axis=0)\n",
    "\n",
    "df_valid = pd.read_csv(valid_fname)\n",
    "df_valid = df_valid.drop(columns=[\"Unnamed: 0\"])\n",
    "\n",
    "df_test = pd.read_csv(tests_fname)\n",
    "df_test = df_test.drop(columns=[\"Unnamed: 0\"])\n",
    "\n",
    "#df_uniq_id[\"DATE\"] = df_uniq_id[\"OCCURRED_ON_DATE\"].apply(lambda x: x.split(\" \")[0])\n",
    "df_train[\"Value_Occ\"] = df_train[\"Value\"].apply(lambda x: 1 if x>0 else x)\n",
    "df_valid[\"Value_Occ\"] = df_valid[\"Value\"].apply(lambda x: 1 if x>0 else x)\n",
    "df_test[\"Value_Occ\"]  = df_test[\"Value\"].apply(lambda x: 1 if x>0 else x)"
   ]
  }
 ],
 "metadata": {
  "kernelspec": {
   "display_name": "Python 3",
   "language": "python",
   "name": "python3"
  },
  "language_info": {
   "codemirror_mode": {
    "name": "ipython",
    "version": 3
   },
   "file_extension": ".py",
   "mimetype": "text/x-python",
   "name": "python",
   "nbconvert_exporter": "python",
   "pygments_lexer": "ipython3",
   "version": "3.7.3"
  }
 },
 "nbformat": 4,
 "nbformat_minor": 2
}
