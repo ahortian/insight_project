{
 "cells": [
  {
   "cell_type": "code",
   "execution_count": 27,
   "metadata": {},
   "outputs": [],
   "source": [
    "import sys\n",
    "import matplotlib.pyplot as plt\n",
    "import seaborn as sns\n",
    "import numpy as np\n",
    "import pandas as pd\n",
    "import datetime\n",
    "import calendar\n",
    "import time\n",
    "import matplotlib.pyplot as plt\n",
    "import math\n",
    "\n",
    "#from sklearn import linear_model\n",
    "#from sklearn.model_selection import train_test_split\n",
    "from sklearn import ensemble\n",
    "from sklearn import linear_model\n",
    "#Import Random Forest Model\n",
    "from sklearn.ensemble import RandomForestClassifier\n",
    "from sklearn.dummy import DummyClassifier\n",
    "\n",
    "# scaling the input feature\n",
    "from sklearn.preprocessing import StandardScaler\n",
    "from sklearn.compose import ColumnTransformer\n",
    "from sklearn.pipeline import Pipeline\n",
    "\n",
    "from sklearn.metrics import f1_score\n",
    "from sklearn.metrics import accuracy_score\n",
    "from sklearn.metrics import precision_score\n",
    "from sklearn.metrics import recall_score\n",
    "from sklearn.metrics import classification_report, confusion_matrix, roc_curve, auc\n",
    "\n",
    "from joblib import load\n",
    "from joblib import dump"
   ]
  },
  {
   "cell_type": "code",
   "execution_count": 2,
   "metadata": {},
   "outputs": [],
   "source": [
    "df_train = pd.read_csv('crime_data/fullTrainTestCrimeData_train_weather_by_hourgroup_police_rand_2019_06_27.csv')\n",
    "df_train = df_train.drop(columns=[\"Unnamed: 0\"])\n",
    "\n",
    "#df_train.boxplot(column=\"Value\")\n",
    "# remove outliers\n",
    "ind_to_drop_outlier = df_train[df_train[\"Value\"]>60].index\n",
    "df_train = df_train.drop(ind_to_drop_outlier, axis=0)\n",
    "\n",
    "df_valid = pd.read_csv('crime_data/fullTrainTestCrimeData_valid_weather_by_hourgroup_police_rand_2019_06_27.csv')\n",
    "df_valid = df_valid.drop(columns=[\"Unnamed: 0\"])\n",
    "\n",
    "df_test = pd.read_csv('crime_data/fullTrainTestCrimeData_tests_weather_by_hourgroup_police_rand_2019_06_27.csv')\n",
    "df_test = df_test.drop(columns=[\"Unnamed: 0\"])\n",
    "\n",
    "#df_uniq_id[\"DATE\"] = df_uniq_id[\"OCCURRED_ON_DATE\"].apply(lambda x: x.split(\" \")[0])\n",
    "df_train[\"Value_Occ\"] = df_train[\"Value\"].apply(lambda x: 1 if x>0 else x)\n",
    "df_valid[\"Value_Occ\"] = df_valid[\"Value\"].apply(lambda x: 1 if x>0 else x)\n",
    "df_test[\"Value_Occ\"]  = df_test[\"Value\"].apply(lambda x: 1 if x>0 else x)"
   ]
  },
  {
   "cell_type": "code",
   "execution_count": 3,
   "metadata": {},
   "outputs": [],
   "source": [
    "x_train = df_train[[\"Hour_Grp\",\"DAY_OF_MONTH\",\"DAY_OF_WEEK_NUM\",\"MONTH\",\"Lat\",\"Long\"\n",
    "                    ,\"Temperature(F)\",\"Humidity(%)\",\"Wind Speed(mph)\",\"Precip.(in)\",\n",
    "                    \"closest_police_d\",\"closest_mbta_d\"]]\n",
    "\n",
    "x_valid = df_valid[[\"Hour_Grp\",\"DAY_OF_MONTH\",\"DAY_OF_WEEK_NUM\",\"MONTH\",\"Lat\",\"Long\"\n",
    "                    ,\"Temperature(F)\",\"Humidity(%)\",\"Wind Speed(mph)\",\"Precip.(in)\",\n",
    "                    \"closest_police_d\",\"closest_mbta_d\"]]\n",
    "\n",
    "x_test = df_test[[\"Hour_Grp\",\"DAY_OF_MONTH\",\"DAY_OF_WEEK_NUM\",\"MONTH\",\"Lat\",\"Long\"\n",
    "                    ,\"Temperature(F)\",\"Humidity(%)\",\"Wind Speed(mph)\",\"Precip.(in)\",\n",
    "                  \"closest_police_d\",\"closest_mbta_d\"]]\n",
    "\n",
    "y_train = df_train[[\"Value_Occ\"]]\n",
    "y_valid = df_valid[[\"Value_Occ\"]]\n",
    "y_test = df_test[[\"Value_Occ\"]]"
   ]
  },
  {
   "cell_type": "code",
   "execution_count": 4,
   "metadata": {},
   "outputs": [],
   "source": [
    "from imblearn.over_sampling import RandomOverSampler\n",
    "from imblearn.under_sampling import RandomUnderSampler"
   ]
  },
  {
   "cell_type": "code",
   "execution_count": 5,
   "metadata": {
    "scrolled": true
   },
   "outputs": [],
   "source": [
    "rus = RandomUnderSampler(random_state=0)\n",
    "X_resampled, y_resampled = rus.fit_resample(x_train, y_train)\n",
    "x_train_resampled = pd.DataFrame(X_resampled, columns =[\"Hour_Grp\",\"DAY_OF_MONTH\",\"DAY_OF_WEEK_NUM\",\"MONTH\",\"Lat\",\"Long\"\n",
    "                    ,\"Temperature(F)\",\"Humidity(%)\",\"Wind Speed(mph)\",\"Precip.(in)\",\n",
    "                  \"closest_police_d\",\"closest_mbta_d\"]) "
   ]
  },
  {
   "cell_type": "markdown",
   "metadata": {},
   "source": [
    "### Variable String for scaling"
   ]
  },
  {
   "cell_type": "code",
   "execution_count": 6,
   "metadata": {},
   "outputs": [],
   "source": [
    "var_scale_strs = [\"Lat\",\"Long\",\n",
    "                  \"Temperature(F)\",\"Humidity(%)\",\"Wind Speed(mph)\",\"Precip.(in)\",\n",
    "                  \"closest_police_d\",\"closest_mbta_d\"]"
   ]
  },
  {
   "cell_type": "markdown",
   "metadata": {},
   "source": [
    "## Grad Boosted DT\n",
    "- #### Load model \n",
    "- #### or Run training"
   ]
  },
  {
   "cell_type": "code",
   "execution_count": 7,
   "metadata": {
    "scrolled": true
   },
   "outputs": [
    {
     "name": "stderr",
     "output_type": "stream",
     "text": [
      "/anaconda3/envs/insight/lib/python3.7/site-packages/sklearn/ensemble/gradient_boosting.py:1450: DataConversionWarning: A column-vector y was passed when a 1d array was expected. Please change the shape of y to (n_samples, ), for example using ravel().\n",
      "  y = column_or_1d(y, warn=True)\n"
     ]
    },
    {
     "data": {
      "text/plain": [
       "Pipeline(memory=None,\n",
       "         steps=[('preprocessor',\n",
       "                 ColumnTransformer(n_jobs=None, remainder='passthrough',\n",
       "                                   sparse_threshold=0.3,\n",
       "                                   transformer_weights=None,\n",
       "                                   transformers=[('somename',\n",
       "                                                  StandardScaler(copy=True,\n",
       "                                                                 with_mean=True,\n",
       "                                                                 with_std=True),\n",
       "                                                  ['Lat', 'Long',\n",
       "                                                   'Temperature(F)',\n",
       "                                                   'Humidity(%)',\n",
       "                                                   'Wind Speed(mph)',\n",
       "                                                   'Precip.(in)',\n",
       "                                                   'closest_police_d',\n",
       "                                                   'closest_mbta_d'])],\n",
       "                                   verbose=Fa...\n",
       "                                            learning_rate=0.1, loss='deviance',\n",
       "                                            max_depth=6, max_features=None,\n",
       "                                            max_leaf_nodes=None,\n",
       "                                            min_impurity_decrease=0.0,\n",
       "                                            min_impurity_split=None,\n",
       "                                            min_samples_leaf=1,\n",
       "                                            min_samples_split=2,\n",
       "                                            min_weight_fraction_leaf=0.0,\n",
       "                                            n_estimators=100,\n",
       "                                            n_iter_no_change=None,\n",
       "                                            presort='auto', random_state=42,\n",
       "                                            subsample=1.0, tol=0.0001,\n",
       "                                            validation_fraction=0.1, verbose=0,\n",
       "                                            warm_start=False))],\n",
       "         verbose=False)"
      ]
     },
     "execution_count": 7,
     "metadata": {},
     "output_type": "execute_result"
    }
   ],
   "source": [
    "params = {\n",
    "    'n_estimators': 100,\n",
    "    'max_depth': 6,\n",
    "    'learning_rate': 0.1,\n",
    "    'criterion': 'friedman_mse',\n",
    "    'random_state': 42\n",
    "}\n",
    "\n",
    "\n",
    "ct = ColumnTransformer([\n",
    "        ('somename', StandardScaler(), var_scale_strs)\n",
    "    ], remainder='passthrough')\n",
    "\n",
    "grad_boost_classi_pipe = Pipeline(steps=[('preprocessor', ct),\n",
    "                      ('classifier', ensemble.GradientBoostingClassifier(**params))])\n",
    "\n",
    "grad_boost_classi_pipe.fit(x_train_resampled, y_resampled)"
   ]
  },
  {
   "cell_type": "code",
   "execution_count": 8,
   "metadata": {
    "scrolled": true
   },
   "outputs": [
    {
     "name": "stdout",
     "output_type": "stream",
     "text": [
      "test f1  0.5827133501361432\n",
      "test accuracy_score  0.7498604436677831\n"
     ]
    }
   ],
   "source": [
    "predictions_test = grad_boost_classi_pipe.predict(x_test)\n",
    "print (\"test f1 \", f1_score(y_test, predictions_test))\n",
    "print (\"test accuracy_score \", accuracy_score(y_test, predictions_test))"
   ]
  },
  {
   "cell_type": "code",
   "execution_count": 18,
   "metadata": {},
   "outputs": [],
   "source": [
    "# predictions_valid = grad_boost_classi_pipe.predict(x_valid)\n",
    "# print (\"validate f1 \", f1_score(y_valid, predictions_valid))\n",
    "# print (\"validate accuracy_score \", accuracy_score(y_valid, predictions_valid))\n",
    "\n",
    "# predictions_train = grad_boost_classi_pipe.predict(x_train)\n",
    "# print (\"train f1 \", f1_score(y_train, predictions_train))\n",
    "# print (\"train accuracy_score \", accuracy_score(y_train, predictions_train))"
   ]
  },
  {
   "cell_type": "markdown",
   "metadata": {},
   "source": [
    "### Save Model"
   ]
  },
  {
   "cell_type": "code",
   "execution_count": 41,
   "metadata": {
    "scrolled": true
   },
   "outputs": [
    {
     "data": {
      "text/plain": [
       "['grad_bdt_classi_police_mbta_rand_undersampling.joblib']"
      ]
     },
     "execution_count": 41,
     "metadata": {},
     "output_type": "execute_result"
    }
   ],
   "source": [
    "# save model\n",
    "# https://www.mikulskibartosz.name/how-to-save-a-machine-learning-model-into-a-file/\n",
    "toBePersisted = dict({\n",
    "    'model': grad_boost_classi_pipe,\n",
    "    'metadata': {\n",
    "        'name': 'Does a crime occur?',\n",
    "        'author': 'Apichart H',\n",
    "        \n",
    "    }\n",
    "})\n",
    "\n",
    "dump(toBePersisted, 'grad_bdt_classi_police_mbta_rand_undersampling.joblib')"
   ]
  },
  {
   "cell_type": "markdown",
   "metadata": {},
   "source": [
    "### Features importance"
   ]
  },
  {
   "cell_type": "code",
   "execution_count": 51,
   "metadata": {},
   "outputs": [
    {
     "name": "stdout",
     "output_type": "stream",
     "text": [
      "[0.0973986  0.32934314 0.01002314 0.00497763 0.00464153 0.00100501\n",
      " 0.34549193 0.09484293 0.10049711 0.00385785 0.00601457 0.00190656]\n"
     ]
    }
   ],
   "source": [
    "f_important = grad_boost_classi_pipe[\"classifier\"].feature_importances_\n",
    "print(grad_boost_classi_pipe[\"classifier\"].feature_importances_)\n",
    "\n",
    "fea = [\"Lat\",\"Long\",\"Temperature(F)\",\"Humidity(%)\",\"Wind Speed(mph)\",\"Precip.(in)\",\n",
    " \"closest_police_d\",\"closest_mbta_d\",\"Hour_Grp\",\"DAY_OF_MONTH\",\"DAY_OF_WEEK_NUM\",\"MONTH\"]"
   ]
  },
  {
   "cell_type": "code",
   "execution_count": 52,
   "metadata": {},
   "outputs": [
    {
     "name": "stdout",
     "output_type": "stream",
     "text": [
      "RangeIndex(start=0, stop=1, step=1)\n"
     ]
    },
    {
     "data": {
      "text/plain": [
       "<matplotlib.axes._subplots.AxesSubplot at 0x1a23eda400>"
      ]
     },
     "execution_count": 52,
     "metadata": {},
     "output_type": "execute_result"
    },
    {
     "data": {
      "image/png": "[encoded data removed]",
      "text/plain": [
       "<Figure size 640x480 with 1 Axes>"
      ]
     },
     "metadata": {},
     "output_type": "display_data"
    }
   ],
   "source": [
    "import matplotlib.pyplot as plt; plt.rcdefaults()\n",
    "import numpy as np\n",
    "import matplotlib.pyplot as plt\n",
    "\n",
    "objects = (\"Latitude\",\"Longitude\",\"Temperature(F)\",\"Humidity(%)\",\"Wind Speed(mph)\",\"Precipitation(in)\",\n",
    " \"distance to closest police st\",\"distance to closest MBTA st\",\"Hour Group\",\"Day of Month\",\"Day of Week\",\"Month\")\n",
    "\n",
    "## create df of feature important to make plotting easy\n",
    "data= []\n",
    "dat ={}\n",
    "for i in range(len(objects)):\n",
    "    dat[objects[i]] =  f_important[i]\n",
    "data +=[dat]\n",
    "\n",
    "df_imp = pd.DataFrame(data)\n",
    "df_imp = df_imp.transpose()\n",
    "print (df_imp.columns)\n",
    "df_imp = df_imp.sort_values(by=0, axis=0, ascending=True)\n",
    "df_imp\n",
    "\n",
    "# make plot\n",
    "df_imp.plot(kind='barh',legend=False)"
   ]
  },
  {
   "cell_type": "markdown",
   "metadata": {},
   "source": [
    "## Logistic Regression (WITH imbalance treatment)"
   ]
  },
  {
   "cell_type": "code",
   "execution_count": 11,
   "metadata": {
    "scrolled": true
   },
   "outputs": [
    {
     "name": "stderr",
     "output_type": "stream",
     "text": [
      "/anaconda3/envs/insight/lib/python3.7/site-packages/sklearn/linear_model/logistic.py:432: FutureWarning: Default solver will be changed to 'lbfgs' in 0.22. Specify a solver to silence this warning.\n",
      "  FutureWarning)\n",
      "/anaconda3/envs/insight/lib/python3.7/site-packages/sklearn/utils/validation.py:724: DataConversionWarning: A column-vector y was passed when a 1d array was expected. Please change the shape of y to (n_samples, ), for example using ravel().\n",
      "  y = column_or_1d(y, warn=True)\n"
     ]
    },
    {
     "data": {
      "text/plain": [
       "Pipeline(memory=None,\n",
       "         steps=[('preprocessor',\n",
       "                 ColumnTransformer(n_jobs=None, remainder='passthrough',\n",
       "                                   sparse_threshold=0.3,\n",
       "                                   transformer_weights=None,\n",
       "                                   transformers=[('somename',\n",
       "                                                  StandardScaler(copy=True,\n",
       "                                                                 with_mean=True,\n",
       "                                                                 with_std=True),\n",
       "                                                  ['Lat', 'Long',\n",
       "                                                   'Temperature(F)',\n",
       "                                                   'Humidity(%)',\n",
       "                                                   'Wind Speed(mph)',\n",
       "                                                   'Precip.(in)',\n",
       "                                                   'closest_police_d',\n",
       "                                                   'closest_mbta_d'])],\n",
       "                                   verbose=False)),\n",
       "                ('classifier',\n",
       "                 LogisticRegression(C=1.0, class_weight=None, dual=False,\n",
       "                                    fit_intercept=True, intercept_scaling=1,\n",
       "                                    l1_ratio=None, max_iter=100,\n",
       "                                    multi_class='warn', n_jobs=None,\n",
       "                                    penalty='l2', random_state=None,\n",
       "                                    solver='warn', tol=0.0001, verbose=0,\n",
       "                                    warm_start=False))],\n",
       "         verbose=False)"
      ]
     },
     "execution_count": 11,
     "metadata": {},
     "output_type": "execute_result"
    }
   ],
   "source": [
    "##------------------------------\n",
    "##  Logistic regression\n",
    "##  using >1 features\n",
    "##------------------------------\n",
    "\n",
    "ct1 = ColumnTransformer([\n",
    "        ('somename', StandardScaler(), var_scale_strs)\n",
    "    ], remainder='passthrough')\n",
    "\n",
    "logistic_pipe = Pipeline(steps=[('preprocessor', ct1),\n",
    "                                ('classifier', linear_model.LogisticRegression())])\n",
    "\n",
    "logistic_pipe.fit(x_train_resampled, y_resampled)"
   ]
  },
  {
   "cell_type": "code",
   "execution_count": 12,
   "metadata": {
    "scrolled": false
   },
   "outputs": [
    {
     "name": "stdout",
     "output_type": "stream",
     "text": [
      "logist Test accuracy  0.6516006504538615\n",
      "logist Test f1_score  0.5074247870360045\n"
     ]
    }
   ],
   "source": [
    "predictions_logis_test = logistic_pipe.predict(x_test)\n",
    "print (\"logist Test accuracy \",accuracy_score(y_test, predictions_logis_test))\n",
    "print (\"logist Test f1_score \",f1_score(y_test, predictions_logis_test))"
   ]
  },
  {
   "cell_type": "code",
   "execution_count": 13,
   "metadata": {
    "scrolled": true
   },
   "outputs": [
    {
     "name": "stdout",
     "output_type": "stream",
     "text": [
      "Classification Report logis\n",
      "              precision    recall  f1-score   support\n",
      "\n",
      "           0       0.89      0.62      0.73    125556\n",
      "           1       0.38      0.75      0.51     39252\n",
      "\n",
      "    accuracy                           0.65    164808\n",
      "   macro avg       0.64      0.69      0.62    164808\n",
      "weighted avg       0.77      0.65      0.68    164808\n",
      "\n"
     ]
    }
   ],
   "source": [
    "print(\"Classification Report logis\")\n",
    "print(classification_report(y_test, predictions_logis_test))"
   ]
  },
  {
   "cell_type": "code",
   "execution_count": 14,
   "metadata": {
    "scrolled": true
   },
   "outputs": [
    {
     "name": "stdout",
     "output_type": "stream",
     "text": [
      "Classification Report GradBoost\n",
      "              precision    recall  f1-score   support\n",
      "\n",
      "           0       0.90      0.76      0.82    125556\n",
      "           1       0.48      0.73      0.58     39252\n",
      "\n",
      "    accuracy                           0.75    164808\n",
      "   macro avg       0.69      0.74      0.70    164808\n",
      "weighted avg       0.80      0.75      0.76    164808\n",
      "\n"
     ]
    }
   ],
   "source": [
    "print(\"Classification Report GradBoost\")\n",
    "print(classification_report(y_test, predictions_test))"
   ]
  },
  {
   "cell_type": "markdown",
   "metadata": {},
   "source": [
    "### DummyClassifier\n",
    "- constant (0 or 1)"
   ]
  },
  {
   "cell_type": "code",
   "execution_count": 23,
   "metadata": {},
   "outputs": [
    {
     "name": "stdout",
     "output_type": "stream",
     "text": [
      "Dummy Confusion Matrix:\n",
      "[[125556      0]\n",
      " [ 39252      0]]\n",
      "\n",
      "all 0 Test accuracy  0.7618319499053444\n"
     ]
    }
   ],
   "source": [
    "dummy = DummyClassifier(strategy='constant',constant=0)\n",
    "dummy.fit(x_train, y_train)\n",
    "dum_predics = dummy.predict(x_test)\n",
    "print(\"Dummy Confusion Matrix:\")\n",
    "print(confusion_matrix(y_test, dum_predics))\n",
    "print()\n",
    "# print(\"Dummy Classification Report\")\n",
    "# print(classification_report(y_valid, dum_predics))\n",
    "print (\"all 0 Test accuracy \",accuracy_score(y_test, dum_predics))\n",
    "#print (\"all 0 Test f1_score \",f1_score(y_test, dum_predics))\n",
    "#print(\"Classification Report All 0\")\n",
    "#print(classification_report(y_test, dum_predics))"
   ]
  },
  {
   "cell_type": "code",
   "execution_count": 25,
   "metadata": {
    "scrolled": true
   },
   "outputs": [
    {
     "name": "stdout",
     "output_type": "stream",
     "text": [
      "Dummy Confusion Matrix:\n",
      "[[     0 125556]\n",
      " [     0  39252]]\n",
      "\n",
      "all 1 Test accuracy  0.2381680500946556\n",
      "all 1 Test f1_score  0.3847103793002058\n"
     ]
    }
   ],
   "source": [
    "dummy = DummyClassifier(strategy='constant',constant=1)\n",
    "dummy.fit(x_train, y_train)\n",
    "dum_predics = dummy.predict(x_test)\n",
    "print(\"Dummy Confusion Matrix:\")\n",
    "print(confusion_matrix(y_test, dum_predics))\n",
    "print()\n",
    "# print(\"Dummy Classification Report\")\n",
    "# print(classification_report(y_valid, dum_predics))\n",
    "print (\"all 1 Test accuracy \",accuracy_score(y_test, dum_predics))\n",
    "print (\"all 1 Test f1_score \",f1_score(y_test, dum_predics))\n",
    "# print(\"Classification Report All 1\")\n",
    "# print(classification_report(y_test, dum_predics))"
   ]
  },
  {
   "cell_type": "markdown",
   "metadata": {},
   "source": [
    "## Load Model and evaluate \n",
    "- ##### This is how you build a df for an input"
   ]
  },
  {
   "cell_type": "code",
   "execution_count": 26,
   "metadata": {
    "scrolled": true
   },
   "outputs": [
    {
     "data": {
      "text/plain": [
       "{'model': Pipeline(memory=None,\n",
       "          steps=[('preprocessor',\n",
       "                  ColumnTransformer(n_jobs=None, remainder='passthrough',\n",
       "                                    sparse_threshold=0.3,\n",
       "                                    transformer_weights=None,\n",
       "                                    transformers=[('somename',\n",
       "                                                   StandardScaler(copy=True,\n",
       "                                                                  with_mean=True,\n",
       "                                                                  with_std=True),\n",
       "                                                   ['Lat', 'Long',\n",
       "                                                    'Temperature(F)',\n",
       "                                                    'Humidity(%)',\n",
       "                                                    'Wind Speed(mph)',\n",
       "                                                    'Precip.(in)',\n",
       "                                                    'closest_police_d',\n",
       "                                                    'closest_mbta_d'])],\n",
       "                                    verbose=Fa...\n",
       "                                             learning_rate=0.1, loss='deviance',\n",
       "                                             max_depth=6, max_features=None,\n",
       "                                             max_leaf_nodes=None,\n",
       "                                             min_impurity_decrease=0.0,\n",
       "                                             min_impurity_split=None,\n",
       "                                             min_samples_leaf=1,\n",
       "                                             min_samples_split=2,\n",
       "                                             min_weight_fraction_leaf=0.0,\n",
       "                                             n_estimators=100,\n",
       "                                             n_iter_no_change=None,\n",
       "                                             presort='auto', random_state=42,\n",
       "                                             subsample=1.0, tol=0.0001,\n",
       "                                             validation_fraction=0.1, verbose=0,\n",
       "                                             warm_start=False))],\n",
       "          verbose=False),\n",
       " 'metadata': {'name': 'Does a crime occur?', 'author': 'Apichart H'}}"
      ]
     },
     "execution_count": 26,
     "metadata": {},
     "output_type": "execute_result"
    }
   ],
   "source": [
    "loaded_model = load('grad_bdt_classi_police_mbta_rand_undersampling_2019_06_28_F1p583_pipe.joblib')\n",
    "loaded_model"
   ]
  },
  {
   "cell_type": "code",
   "execution_count": 68,
   "metadata": {},
   "outputs": [
    {
     "data": {
      "text/plain": [
       "1"
      ]
     },
     "execution_count": 68,
     "metadata": {},
     "output_type": "execute_result"
    }
   ],
   "source": [
    "# to test it, I need an input that I know the prediction value\n",
    "a = pd.DataFrame({'col1':predictions_test})\n",
    "#a[a[\"col1\"] == 1]\n",
    "a.loc[4579].col1"
   ]
  },
  {
   "cell_type": "code",
   "execution_count": 69,
   "metadata": {
    "scrolled": true
   },
   "outputs": [
    {
     "data": {
      "text/plain": [
       "1"
      ]
     },
     "execution_count": 69,
     "metadata": {},
     "output_type": "execute_result"
    }
   ],
   "source": [
    "# Get feature of this exapmle\n",
    "x_test4_tmp = df_test.loc[4579]\n",
    "x_test4_tmp.DAY_OF_MONTH"
   ]
  },
  {
   "cell_type": "code",
   "execution_count": 76,
   "metadata": {},
   "outputs": [
    {
     "data": {
      "text/html": [
       "<div>\n",
       "<style scoped>\n",
       "    .dataframe tbody tr th:only-of-type {\n",
       "        vertical-align: middle;\n",
       "    }\n",
       "\n",
       "    .dataframe tbody tr th {\n",
       "        vertical-align: top;\n",
       "    }\n",
       "\n",
       "    .dataframe thead th {\n",
       "        text-align: right;\n",
       "    }\n",
       "</style>\n",
       "<table border=\"1\" class=\"dataframe\">\n",
       "  <thead>\n",
       "    <tr style=\"text-align: right;\">\n",
       "      <th></th>\n",
       "      <th>Hour_Grp</th>\n",
       "      <th>DAY_OF_MONTH</th>\n",
       "      <th>DAY_OF_WEEK_NUM</th>\n",
       "      <th>MONTH</th>\n",
       "      <th>Temperature(F)</th>\n",
       "      <th>Humidity(%)</th>\n",
       "      <th>Wind Speed(mph)</th>\n",
       "      <th>Precip.(in)</th>\n",
       "      <th>closest_police_d</th>\n",
       "      <th>closest_mbta_d</th>\n",
       "      <th>Lat</th>\n",
       "      <th>Long</th>\n",
       "    </tr>\n",
       "  </thead>\n",
       "  <tbody>\n",
       "    <tr>\n",
       "      <th>0</th>\n",
       "      <td>2</td>\n",
       "      <td>1</td>\n",
       "      <td>4</td>\n",
       "      <td>11</td>\n",
       "      <td>56.166667</td>\n",
       "      <td>84.083333</td>\n",
       "      <td>7.333333</td>\n",
       "      <td>0.0</td>\n",
       "      <td>0.493969</td>\n",
       "      <td>2.458019</td>\n",
       "      <td>42.2494</td>\n",
       "      <td>-71.1232</td>\n",
       "    </tr>\n",
       "  </tbody>\n",
       "</table>\n",
       "</div>"
      ],
      "text/plain": [
       "   Hour_Grp  DAY_OF_MONTH  DAY_OF_WEEK_NUM  MONTH  Temperature(F)  \\\n",
       "0         2             1                4     11       56.166667   \n",
       "\n",
       "   Humidity(%)  Wind Speed(mph)  Precip.(in)  closest_police_d  \\\n",
       "0    84.083333         7.333333          0.0          0.493969   \n",
       "\n",
       "   closest_mbta_d      Lat     Long  \n",
       "0        2.458019  42.2494 -71.1232  "
      ]
     },
     "execution_count": 76,
     "metadata": {},
     "output_type": "execute_result"
    }
   ],
   "source": [
    "data = {'Hour_Grp':[x_test4_tmp.Hour_Grp],\n",
    "        'DAY_OF_MONTH':[x_test4_tmp.DAY_OF_MONTH], \n",
    "        'DAY_OF_WEEK_NUM':[x_test4_tmp.DAY_OF_WEEK_NUM], \n",
    "        'MONTH':[x_test4_tmp.MONTH], \n",
    "       'Lat':[x_test4_tmp.Lat],\n",
    "       'Long':[x_test4_tmp.Long],\n",
    "       'Temperature(F)':[x_test4_tmp[\"Temperature(F)\"]],\n",
    "       'Humidity(%)':[x_test4_tmp[\"Humidity(%)\"]],\n",
    "       'Wind Speed(mph)':[x_test4_tmp[\"Wind Speed(mph)\"]],\n",
    "       'Precip.(in)':[x_test4_tmp[\"Precip.(in)\"]],\n",
    "       'closest_police_d': [x_test4_tmp.closest_police_d],\n",
    "       'closest_mbta_d': [x_test4_tmp.closest_mbta_d],\n",
    "       }  \n",
    "# Create DataFrame \n",
    "x_test4 = pd.DataFrame(data)\n",
    "x_test4"
   ]
  },
  {
   "cell_type": "code",
   "execution_count": 77,
   "metadata": {},
   "outputs": [
    {
     "data": {
      "text/plain": [
       "array([1])"
      ]
     },
     "execution_count": 77,
     "metadata": {},
     "output_type": "execute_result"
    }
   ],
   "source": [
    "predictions = loaded_model[\"model\"].predict(x_test4)\n",
    "predictions"
   ]
  },
  {
   "cell_type": "code",
   "execution_count": 78,
   "metadata": {},
   "outputs": [],
   "source": [
    "data = {'Hour_Grp':[3],\n",
    "        'DAY_OF_MONTH':[1], \n",
    "        'DAY_OF_WEEK_NUM':[7], \n",
    "        'MONTH':[4], \n",
    "       'Lat':[42.35565],\n",
    "       'Long':[-71.17145],\n",
    "       'Temperature(F)':[47.791667],\n",
    "       'Humidity(%)':[43.75],\n",
    "       'Wind Speed(mph)':[18.125],\n",
    "       'Precip.(in)':[0.0],\n",
    "       'closest_police_d': [2],\n",
    "       'closest_mbta_d': [4],\n",
    "       }  \n",
    "# Create DataFrame \n",
    "x_test3 = pd.DataFrame(data) "
   ]
  },
  {
   "cell_type": "code",
   "execution_count": 79,
   "metadata": {},
   "outputs": [
    {
     "data": {
      "text/plain": [
       "array([0])"
      ]
     },
     "execution_count": 79,
     "metadata": {},
     "output_type": "execute_result"
    }
   ],
   "source": [
    "predictions = loaded_model[\"model\"].predict(x_test3)\n",
    "predictions"
   ]
  },
  {
   "cell_type": "markdown",
   "metadata": {},
   "source": [
    "## Tuning parameters for GradBoost"
   ]
  },
  {
   "cell_type": "code",
   "execution_count": 34,
   "metadata": {
    "collapsed": true
   },
   "outputs": [
    {
     "name": "stderr",
     "output_type": "stream",
     "text": [
      "/anaconda3/envs/insight/lib/python3.7/site-packages/sklearn/ensemble/gradient_boosting.py:1450: DataConversionWarning: A column-vector y was passed when a 1d array was expected. Please change the shape of y to (n_samples, ), for example using ravel().\n",
      "  y = column_or_1d(y, warn=True)\n"
     ]
    },
    {
     "name": "stdout",
     "output_type": "stream",
     "text": [
      "learning_rate:  0.01\n",
      "Accuracy score (training): 0.744\n",
      "Accuracy score (validation): 0.725\n",
      "F1 score (training): 0.754\n",
      "F1 score (validation): 0.597\n",
      "roc_auc  (validation): 0.819\n",
      "\n"
     ]
    },
    {
     "name": "stderr",
     "output_type": "stream",
     "text": [
      "/anaconda3/envs/insight/lib/python3.7/site-packages/sklearn/ensemble/gradient_boosting.py:1450: DataConversionWarning: A column-vector y was passed when a 1d array was expected. Please change the shape of y to (n_samples, ), for example using ravel().\n",
      "  y = column_or_1d(y, warn=True)\n"
     ]
    },
    {
     "name": "stdout",
     "output_type": "stream",
     "text": [
      "learning_rate:  0.02\n",
      "Accuracy score (training): 0.749\n",
      "Accuracy score (validation): 0.740\n",
      "F1 score (training): 0.756\n",
      "F1 score (validation): 0.608\n",
      "roc_auc  (validation): 0.830\n",
      "\n"
     ]
    },
    {
     "name": "stderr",
     "output_type": "stream",
     "text": [
      "/anaconda3/envs/insight/lib/python3.7/site-packages/sklearn/ensemble/gradient_boosting.py:1450: DataConversionWarning: A column-vector y was passed when a 1d array was expected. Please change the shape of y to (n_samples, ), for example using ravel().\n",
      "  y = column_or_1d(y, warn=True)\n"
     ]
    },
    {
     "name": "stdout",
     "output_type": "stream",
     "text": [
      "learning_rate:  0.05\n",
      "Accuracy score (training): 0.755\n",
      "Accuracy score (validation): 0.742\n",
      "F1 score (training): 0.760\n",
      "F1 score (validation): 0.613\n",
      "roc_auc  (validation): 0.835\n",
      "\n"
     ]
    },
    {
     "name": "stderr",
     "output_type": "stream",
     "text": [
      "/anaconda3/envs/insight/lib/python3.7/site-packages/sklearn/ensemble/gradient_boosting.py:1450: DataConversionWarning: A column-vector y was passed when a 1d array was expected. Please change the shape of y to (n_samples, ), for example using ravel().\n",
      "  y = column_or_1d(y, warn=True)\n"
     ]
    },
    {
     "name": "stdout",
     "output_type": "stream",
     "text": [
      "learning_rate:  0.1\n",
      "Accuracy score (training): 0.759\n",
      "Accuracy score (validation): 0.744\n",
      "F1 score (training): 0.763\n",
      "F1 score (validation): 0.614\n",
      "roc_auc  (validation): 0.836\n",
      "\n"
     ]
    },
    {
     "name": "stderr",
     "output_type": "stream",
     "text": [
      "/anaconda3/envs/insight/lib/python3.7/site-packages/sklearn/ensemble/gradient_boosting.py:1450: DataConversionWarning: A column-vector y was passed when a 1d array was expected. Please change the shape of y to (n_samples, ), for example using ravel().\n",
      "  y = column_or_1d(y, warn=True)\n"
     ]
    },
    {
     "name": "stdout",
     "output_type": "stream",
     "text": [
      "learning_rate:  0.15\n",
      "Accuracy score (training): 0.762\n",
      "Accuracy score (validation): 0.742\n",
      "F1 score (training): 0.767\n",
      "F1 score (validation): 0.610\n",
      "roc_auc  (validation): 0.834\n",
      "\n"
     ]
    },
    {
     "name": "stderr",
     "output_type": "stream",
     "text": [
      "/anaconda3/envs/insight/lib/python3.7/site-packages/sklearn/ensemble/gradient_boosting.py:1450: DataConversionWarning: A column-vector y was passed when a 1d array was expected. Please change the shape of y to (n_samples, ), for example using ravel().\n",
      "  y = column_or_1d(y, warn=True)\n"
     ]
    },
    {
     "name": "stdout",
     "output_type": "stream",
     "text": [
      "learning_rate:  0.2\n",
      "Accuracy score (training): 0.766\n",
      "Accuracy score (validation): 0.738\n",
      "F1 score (training): 0.770\n",
      "F1 score (validation): 0.609\n",
      "roc_auc  (validation): 0.834\n",
      "\n"
     ]
    },
    {
     "name": "stderr",
     "output_type": "stream",
     "text": [
      "/anaconda3/envs/insight/lib/python3.7/site-packages/sklearn/ensemble/gradient_boosting.py:1450: DataConversionWarning: A column-vector y was passed when a 1d array was expected. Please change the shape of y to (n_samples, ), for example using ravel().\n",
      "  y = column_or_1d(y, warn=True)\n"
     ]
    },
    {
     "name": "stdout",
     "output_type": "stream",
     "text": [
      "learning_rate:  0.25\n",
      "Accuracy score (training): 0.769\n",
      "Accuracy score (validation): 0.740\n",
      "F1 score (training): 0.773\n",
      "F1 score (validation): 0.610\n",
      "roc_auc  (validation): 0.833\n",
      "\n"
     ]
    },
    {
     "name": "stderr",
     "output_type": "stream",
     "text": [
      "/anaconda3/envs/insight/lib/python3.7/site-packages/sklearn/ensemble/gradient_boosting.py:1450: DataConversionWarning: A column-vector y was passed when a 1d array was expected. Please change the shape of y to (n_samples, ), for example using ravel().\n",
      "  y = column_or_1d(y, warn=True)\n"
     ]
    },
    {
     "name": "stdout",
     "output_type": "stream",
     "text": [
      "learning_rate:  0.3\n",
      "Accuracy score (training): 0.771\n",
      "Accuracy score (validation): 0.738\n",
      "F1 score (training): 0.774\n",
      "F1 score (validation): 0.605\n",
      "roc_auc  (validation): 0.832\n",
      "\n"
     ]
    },
    {
     "name": "stderr",
     "output_type": "stream",
     "text": [
      "/anaconda3/envs/insight/lib/python3.7/site-packages/sklearn/ensemble/gradient_boosting.py:1450: DataConversionWarning: A column-vector y was passed when a 1d array was expected. Please change the shape of y to (n_samples, ), for example using ravel().\n",
      "  y = column_or_1d(y, warn=True)\n"
     ]
    },
    {
     "name": "stdout",
     "output_type": "stream",
     "text": [
      "learning_rate:  0.4\n",
      "Accuracy score (training): 0.775\n",
      "Accuracy score (validation): 0.736\n",
      "F1 score (training): 0.780\n",
      "F1 score (validation): 0.602\n",
      "roc_auc  (validation): 0.827\n",
      "\n"
     ]
    }
   ],
   "source": [
    "## Tuning\n",
    "\n",
    "learning_rates = [0.01, 0.02, 0.05, 0.1, 0.15, 0.2, 0.25, 0.3, 0.4]\n",
    "for l_rate in learning_rates:\n",
    "    params = {\n",
    "    'n_estimators': 100,\n",
    "    'max_depth': 6,\n",
    "    'learning_rate': l_rate,\n",
    "    'criterion': 'friedman_mse',\n",
    "    'random_state': 42\n",
    "    }\n",
    "    \n",
    "    ct = ColumnTransformer([\n",
    "        ('somename', StandardScaler(), \n",
    "         [\"Lat\",\"Long\",\"Temperature(F)\",\"Humidity(%)\",\"Wind Speed(mph)\",\"Precip.(in)\",\"closest_police_d\",\"closest_mbta_d\"])\n",
    "    ], remainder='passthrough')\n",
    "\n",
    "    gb = Pipeline(steps=[('preprocessor', ct),\n",
    "                      ('classifier', ensemble.GradientBoostingClassifier(**params))])\n",
    "\n",
    "\n",
    "    gb.fit(x_train_resampled, y_resampled)\n",
    "    predictions_valid = gb.predict(x_valid)\n",
    "    predictions_train = gb.predict(x_train_resampled)\n",
    "    print(\"learning_rate: \", l_rate)\n",
    "    print(\"Accuracy score (training): {0:.3f}\".format(accuracy_score(y_resampled, predictions_train)))\n",
    "    print(\"Accuracy score (validation): {0:.3f}\".format(accuracy_score(y_valid, predictions_valid)))\n",
    "    print(\"F1 score (training): {0:.3f}\".format(f1_score(y_resampled, predictions_train)))\n",
    "    print(\"F1 score (validation): {0:.3f}\".format(f1_score(y_valid, predictions_valid)))\n",
    "    y_scores_gb = gb.decision_function(x_valid)\n",
    "    fpr_gb, tpr_gb, _ = roc_curve(y_valid, y_scores_gb)\n",
    "    roc_auc_gb = auc(fpr_gb, tpr_gb)\n",
    "    print(\"roc_auc  (validation): {0:.3f}\".format(roc_auc_gb))\n",
    "    \n",
    "    print()\n",
    "    "
   ]
  },
  {
   "cell_type": "code",
   "execution_count": 35,
   "metadata": {
    "collapsed": true
   },
   "outputs": [
    {
     "name": "stderr",
     "output_type": "stream",
     "text": [
      "/anaconda3/envs/insight/lib/python3.7/site-packages/sklearn/ensemble/gradient_boosting.py:1450: DataConversionWarning: A column-vector y was passed when a 1d array was expected. Please change the shape of y to (n_samples, ), for example using ravel().\n",
      "  y = column_or_1d(y, warn=True)\n"
     ]
    },
    {
     "name": "stdout",
     "output_type": "stream",
     "text": [
      "max_depth:  4\n",
      "Accuracy score (training): 0.752\n",
      "Accuracy score (validation): 0.733\n",
      "F1 score (training): 0.755\n",
      "F1 score (validation): 0.603\n",
      "roc_auc  (validation): 0.832\n",
      "\n"
     ]
    },
    {
     "name": "stderr",
     "output_type": "stream",
     "text": [
      "/anaconda3/envs/insight/lib/python3.7/site-packages/sklearn/ensemble/gradient_boosting.py:1450: DataConversionWarning: A column-vector y was passed when a 1d array was expected. Please change the shape of y to (n_samples, ), for example using ravel().\n",
      "  y = column_or_1d(y, warn=True)\n"
     ]
    },
    {
     "name": "stdout",
     "output_type": "stream",
     "text": [
      "max_depth:  5\n",
      "Accuracy score (training): 0.756\n",
      "Accuracy score (validation): 0.739\n",
      "F1 score (training): 0.760\n",
      "F1 score (validation): 0.610\n",
      "roc_auc  (validation): 0.833\n",
      "\n"
     ]
    },
    {
     "name": "stderr",
     "output_type": "stream",
     "text": [
      "/anaconda3/envs/insight/lib/python3.7/site-packages/sklearn/ensemble/gradient_boosting.py:1450: DataConversionWarning: A column-vector y was passed when a 1d array was expected. Please change the shape of y to (n_samples, ), for example using ravel().\n",
      "  y = column_or_1d(y, warn=True)\n"
     ]
    },
    {
     "name": "stdout",
     "output_type": "stream",
     "text": [
      "max_depth:  6\n",
      "Accuracy score (training): 0.759\n",
      "Accuracy score (validation): 0.744\n",
      "F1 score (training): 0.763\n",
      "F1 score (validation): 0.614\n",
      "roc_auc  (validation): 0.836\n",
      "\n"
     ]
    },
    {
     "name": "stderr",
     "output_type": "stream",
     "text": [
      "/anaconda3/envs/insight/lib/python3.7/site-packages/sklearn/ensemble/gradient_boosting.py:1450: DataConversionWarning: A column-vector y was passed when a 1d array was expected. Please change the shape of y to (n_samples, ), for example using ravel().\n",
      "  y = column_or_1d(y, warn=True)\n"
     ]
    },
    {
     "name": "stdout",
     "output_type": "stream",
     "text": [
      "max_depth:  7\n",
      "Accuracy score (training): 0.766\n",
      "Accuracy score (validation): 0.743\n",
      "F1 score (training): 0.770\n",
      "F1 score (validation): 0.612\n",
      "roc_auc  (validation): 0.835\n",
      "\n"
     ]
    },
    {
     "name": "stderr",
     "output_type": "stream",
     "text": [
      "/anaconda3/envs/insight/lib/python3.7/site-packages/sklearn/ensemble/gradient_boosting.py:1450: DataConversionWarning: A column-vector y was passed when a 1d array was expected. Please change the shape of y to (n_samples, ), for example using ravel().\n",
      "  y = column_or_1d(y, warn=True)\n"
     ]
    },
    {
     "name": "stdout",
     "output_type": "stream",
     "text": [
      "max_depth:  8\n",
      "Accuracy score (training): 0.773\n",
      "Accuracy score (validation): 0.742\n",
      "F1 score (training): 0.778\n",
      "F1 score (validation): 0.612\n",
      "roc_auc  (validation): 0.833\n",
      "\n"
     ]
    }
   ],
   "source": [
    "## Tuning\n",
    "depths = [4, 5, 6, 7, 8]\n",
    "for depth in depths:\n",
    "    params = {\n",
    "    'n_estimators': 100,\n",
    "    'max_depth': depth,\n",
    "    'learning_rate': 0.1,\n",
    "    'criterion': 'friedman_mse',\n",
    "    'random_state': 42\n",
    "    }\n",
    "    \n",
    "    ct = ColumnTransformer([\n",
    "        ('somename', StandardScaler(), \n",
    "         [\"Lat\",\"Long\",\"Temperature(F)\",\"Humidity(%)\",\"Wind Speed(mph)\",\"Precip.(in)\",\"closest_police_d\",\"closest_mbta_d\"])\n",
    "    ], remainder='passthrough')\n",
    "\n",
    "    gb = Pipeline(steps=[('preprocessor', ct),\n",
    "                      ('classifier', ensemble.GradientBoostingClassifier(**params))])\n",
    "\n",
    "    \n",
    "    gb.fit(x_train_resampled, y_resampled)\n",
    "    predictions_valid = gb.predict(x_valid)\n",
    "    predictions_train = gb.predict(x_train_resampled)\n",
    "    print(\"max_depth: \", depth)\n",
    "    print(\"Accuracy score (training): {0:.3f}\".format(accuracy_score(y_resampled, predictions_train)))\n",
    "    print(\"Accuracy score (validation): {0:.3f}\".format(accuracy_score(y_valid, predictions_valid)))\n",
    "    print(\"F1 score (training): {0:.3f}\".format(f1_score(y_resampled, predictions_train)))\n",
    "    print(\"F1 score (validation): {0:.3f}\".format(f1_score(y_valid, predictions_valid)))\n",
    "    y_scores_gb = gb.decision_function(x_valid)\n",
    "    fpr_gb, tpr_gb, _ = roc_curve(y_valid, y_scores_gb)\n",
    "    roc_auc_gb = auc(fpr_gb, tpr_gb)\n",
    "    print(\"roc_auc  (validation): {0:.3f}\".format(roc_auc_gb))\n",
    "    \n",
    "    print()"
   ]
  },
  {
   "cell_type": "code",
   "execution_count": 36,
   "metadata": {
    "collapsed": true
   },
   "outputs": [
    {
     "name": "stderr",
     "output_type": "stream",
     "text": [
      "/anaconda3/envs/insight/lib/python3.7/site-packages/sklearn/ensemble/gradient_boosting.py:1450: DataConversionWarning: A column-vector y was passed when a 1d array was expected. Please change the shape of y to (n_samples, ), for example using ravel().\n",
      "  y = column_or_1d(y, warn=True)\n"
     ]
    },
    {
     "name": "stdout",
     "output_type": "stream",
     "text": [
      "n_estimator:  50\n",
      "Accuracy score (training): 0.755\n",
      "Accuracy score (validation): 0.745\n",
      "F1 score (training): 0.759\n",
      "F1 score (validation): 0.614\n",
      "roc_auc  (validation): 0.835\n",
      "\n"
     ]
    },
    {
     "name": "stderr",
     "output_type": "stream",
     "text": [
      "/anaconda3/envs/insight/lib/python3.7/site-packages/sklearn/ensemble/gradient_boosting.py:1450: DataConversionWarning: A column-vector y was passed when a 1d array was expected. Please change the shape of y to (n_samples, ), for example using ravel().\n",
      "  y = column_or_1d(y, warn=True)\n"
     ]
    },
    {
     "name": "stdout",
     "output_type": "stream",
     "text": [
      "n_estimator:  100\n",
      "Accuracy score (training): 0.759\n",
      "Accuracy score (validation): 0.744\n",
      "F1 score (training): 0.763\n",
      "F1 score (validation): 0.614\n",
      "roc_auc  (validation): 0.836\n",
      "\n"
     ]
    },
    {
     "name": "stderr",
     "output_type": "stream",
     "text": [
      "/anaconda3/envs/insight/lib/python3.7/site-packages/sklearn/ensemble/gradient_boosting.py:1450: DataConversionWarning: A column-vector y was passed when a 1d array was expected. Please change the shape of y to (n_samples, ), for example using ravel().\n",
      "  y = column_or_1d(y, warn=True)\n"
     ]
    },
    {
     "name": "stdout",
     "output_type": "stream",
     "text": [
      "n_estimator:  150\n",
      "Accuracy score (training): 0.763\n",
      "Accuracy score (validation): 0.743\n",
      "F1 score (training): 0.766\n",
      "F1 score (validation): 0.613\n",
      "roc_auc  (validation): 0.836\n",
      "\n"
     ]
    },
    {
     "name": "stderr",
     "output_type": "stream",
     "text": [
      "/anaconda3/envs/insight/lib/python3.7/site-packages/sklearn/ensemble/gradient_boosting.py:1450: DataConversionWarning: A column-vector y was passed when a 1d array was expected. Please change the shape of y to (n_samples, ), for example using ravel().\n",
      "  y = column_or_1d(y, warn=True)\n"
     ]
    },
    {
     "name": "stdout",
     "output_type": "stream",
     "text": [
      "n_estimator:  200\n",
      "Accuracy score (training): 0.766\n",
      "Accuracy score (validation): 0.742\n",
      "F1 score (training): 0.769\n",
      "F1 score (validation): 0.612\n",
      "roc_auc  (validation): 0.836\n",
      "\n"
     ]
    },
    {
     "name": "stderr",
     "output_type": "stream",
     "text": [
      "/anaconda3/envs/insight/lib/python3.7/site-packages/sklearn/ensemble/gradient_boosting.py:1450: DataConversionWarning: A column-vector y was passed when a 1d array was expected. Please change the shape of y to (n_samples, ), for example using ravel().\n",
      "  y = column_or_1d(y, warn=True)\n"
     ]
    },
    {
     "name": "stdout",
     "output_type": "stream",
     "text": [
      "n_estimator:  300\n",
      "Accuracy score (training): 0.771\n",
      "Accuracy score (validation): 0.741\n",
      "F1 score (training): 0.775\n",
      "F1 score (validation): 0.610\n",
      "roc_auc  (validation): 0.834\n",
      "\n"
     ]
    },
    {
     "name": "stderr",
     "output_type": "stream",
     "text": [
      "/anaconda3/envs/insight/lib/python3.7/site-packages/sklearn/ensemble/gradient_boosting.py:1450: DataConversionWarning: A column-vector y was passed when a 1d array was expected. Please change the shape of y to (n_samples, ), for example using ravel().\n",
      "  y = column_or_1d(y, warn=True)\n"
     ]
    },
    {
     "name": "stdout",
     "output_type": "stream",
     "text": [
      "n_estimator:  400\n",
      "Accuracy score (training): 0.775\n",
      "Accuracy score (validation): 0.740\n",
      "F1 score (training): 0.779\n",
      "F1 score (validation): 0.609\n",
      "roc_auc  (validation): 0.833\n",
      "\n"
     ]
    },
    {
     "name": "stderr",
     "output_type": "stream",
     "text": [
      "/anaconda3/envs/insight/lib/python3.7/site-packages/sklearn/ensemble/gradient_boosting.py:1450: DataConversionWarning: A column-vector y was passed when a 1d array was expected. Please change the shape of y to (n_samples, ), for example using ravel().\n",
      "  y = column_or_1d(y, warn=True)\n"
     ]
    },
    {
     "name": "stdout",
     "output_type": "stream",
     "text": [
      "n_estimator:  600\n",
      "Accuracy score (training): 0.784\n",
      "Accuracy score (validation): 0.739\n",
      "F1 score (training): 0.788\n",
      "F1 score (validation): 0.608\n",
      "roc_auc  (validation): 0.832\n",
      "\n"
     ]
    }
   ],
   "source": [
    "## Tuning\n",
    "ns_estimators = [50,100,150,200, 300, 400]\n",
    "for nest in ns_estimators:\n",
    "    params = {\n",
    "    'n_estimators': nest,\n",
    "    'max_depth': 6,\n",
    "    'learning_rate': 0.1,\n",
    "    'criterion': 'friedman_mse',\n",
    "    'random_state': 42\n",
    "    }\n",
    "    \n",
    "    ct = ColumnTransformer([\n",
    "        ('somename', StandardScaler(), \n",
    "         [\"Lat\",\"Long\",\"Temperature(F)\",\"Humidity(%)\",\"Wind Speed(mph)\",\"Precip.(in)\",\"closest_police_d\",\"closest_mbta_d\"])\n",
    "    ], remainder='passthrough')\n",
    "\n",
    "    gb = Pipeline(steps=[('preprocessor', ct),\n",
    "                      ('classifier', ensemble.GradientBoostingClassifier(**params))])\n",
    "    \n",
    "    gb.fit(x_train_resampled, y_resampled)\n",
    "    predictions_valid = gb.predict(x_valid)\n",
    "    predictions_train = gb.predict(x_train_resampled)\n",
    "    print(\"n_estimator: \", nest)\n",
    "    print(\"Accuracy score (training): {0:.3f}\".format(accuracy_score(y_resampled, predictions_train)))\n",
    "    print(\"Accuracy score (validation): {0:.3f}\".format(accuracy_score(y_valid, predictions_valid)))\n",
    "    print(\"F1 score (training): {0:.3f}\".format(f1_score(y_resampled, predictions_train)))\n",
    "    print(\"F1 score (validation): {0:.3f}\".format(f1_score(y_valid, predictions_valid)))\n",
    "    y_scores_gb = gb.decision_function(x_valid)\n",
    "    fpr_gb, tpr_gb, _ = roc_curve(y_valid, y_scores_gb)\n",
    "    roc_auc_gb = auc(fpr_gb, tpr_gb)\n",
    "    print(\"roc_auc  (validation): {0:.3f}\".format(roc_auc_gb))\n",
    "    \n",
    "    print()"
   ]
  },
  {
   "cell_type": "code",
   "execution_count": null,
   "metadata": {},
   "outputs": [],
   "source": []
  }
 ],
 "metadata": {
  "kernelspec": {
   "display_name": "Python 3",
   "language": "python",
   "name": "python3"
  },
  "language_info": {
   "codemirror_mode": {
    "name": "ipython",
    "version": 3
   },
   "file_extension": ".py",
   "mimetype": "text/x-python",
   "name": "python",
   "nbconvert_exporter": "python",
   "pygments_lexer": "ipython3",
   "version": "3.7.3"
  }
 },
 "nbformat": 4,
 "nbformat_minor": 2
}
